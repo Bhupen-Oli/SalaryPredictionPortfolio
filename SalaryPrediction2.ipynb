{
  "nbformat": 4,
  "nbformat_minor": 0,
  "metadata": {
    "colab": {
      "name": "SalaryPrediction2",
      "provenance": [],
      "collapsed_sections": [],
      "authorship_tag": "ABX9TyPCRW8WkMv3t5dymzkpnZTc",
      "include_colab_link": true
    },
    "kernelspec": {
      "name": "python3",
      "display_name": "Python 3"
    },
    "accelerator": "GPU"
  },
  "cells": [
    {
      "cell_type": "markdown",
      "metadata": {
        "id": "view-in-github",
        "colab_type": "text"
      },
      "source": [
        "<a href=\"https://colab.research.google.com/github/Bhupen-Oli/SalaryPredictionPortfolio/blob/master/SalaryPrediction2.ipynb\" target=\"_parent\"><img src=\"https://colab.research.google.com/assets/colab-badge.svg\" alt=\"Open In Colab\"/></a>"
      ]
    },
    {
      "cell_type": "code",
      "metadata": {
        "id": "lyXw7MKsgAZq",
        "colab_type": "code",
        "colab": {}
      },
      "source": [
        "!pip install -U -q PyDrive\n",
        "from pydrive.auth import GoogleAuth\n",
        "from pydrive.drive import GoogleDrive\n",
        "from google.colab import auth\n",
        "from oauth2client.client import GoogleCredentials\n"
      ],
      "execution_count": null,
      "outputs": []
    },
    {
      "cell_type": "code",
      "metadata": {
        "id": "DS9DO-u_gt5L",
        "colab_type": "code",
        "colab": {}
      },
      "source": [
        "auth.authenticate_user()\n",
        "gauth = GoogleAuth()\n",
        "gauth.credentials = GoogleCredentials.get_application_default()\n",
        "drive = GoogleDrive(gauth)\n",
        "downloaded = drive.CreateFile({'id':'1ZOxvPJpot6--4jVpTpRuzAgpc5Ezionr'}) # replace the id with id of file you want to access\n",
        "downloaded.GetContentFile('train_features.csv') \n",
        "downloaded = drive.CreateFile({'id':'1B5OQwFnFxzxNDaMuKk91k0UcAWpnztCS'}) # replace the id with id of file you want to access\n",
        "downloaded.GetContentFile('test_features.csv') \n",
        "downloaded = drive.CreateFile({'id':'1BV1e4TLdFiX_LGAToSzpKsX3kpN3Jvo6'}) # replace the id with id of file you want to access\n",
        "downloaded.GetContentFile('train_targets.csv') \n",
        "\n"
      ],
      "execution_count": null,
      "outputs": []
    },
    {
      "cell_type": "code",
      "metadata": {
        "id": "K0oqJjkPq17X",
        "colab_type": "code",
        "colab": {}
      },
      "source": [
        "import pandas as pd\n",
        "import numpy as np\n",
        "import matplotlib.pyplot as plt\n",
        "from sklearn.ensemble import RandomForestRegressor, GradientBoostingRegressor\n",
        "from sklearn.model_selection import cross_val_score\n",
        "from sklearn.utils import shuffle\n",
        "from sklearn.metrics import mean_squared_error\n",
        "from sklearn.linear_model import LinearRegression\n",
        "from sklearn.pipeline import make_pipeline\n",
        "from sklearn.decomposition import PCA\n",
        "from sklearn.preprocessing import StandardScaler\n"
      ],
      "execution_count": null,
      "outputs": []
    },
    {
      "cell_type": "code",
      "metadata": {
        "id": "sOgoEm4yjFRd",
        "colab_type": "code",
        "colab": {}
      },
      "source": [
        "def load_file(file):\n",
        "    '''loads csv to pd dataframe'''\n",
        "    return pd.read_csv(file)\n",
        "\n",
        "def consolidate_data(df1, df2, key=None, left_index=False, right_index=False):\n",
        "    '''perform inner join to return only records that are present in both dataframes'''\n",
        "    return pd.merge(left=df1, right=df2, how='inner', on=key, left_index=left_index, right_index=right_index)\n",
        "\n",
        "def clean_data(raw_df):\n",
        "    '''remove rows that contain salary <= 0 or duplicate job IDs'''\n",
        "    clean_df = raw_df.drop_duplicates(subset='jobId')\n",
        "    clean_df = clean_df[clean_df.salary>0]\n",
        "    return clean_df\n",
        "\n",
        "def one_hot_encode_feature_df(df, cat_vars=None, num_vars=None):\n",
        "    '''performs one-hot encoding on all categorical variables and combines result with continous variables'''\n",
        "    cat_df = pd.get_dummies(df[cat_vars])\n",
        "    num_df = df[num_vars].apply(pd.to_numeric)\n",
        "    return pd.concat([cat_df, num_df], axis=1)#,ignore_index=False)\n",
        "\n",
        "def get_target_df(df, target):\n",
        "    '''returns target dataframe'''\n",
        "    return df[target]\n",
        "\n",
        "def train_model(model, feature_df, target_df, num_procs, mean_mse, cv_std):\n",
        "    neg_mse = cross_val_score(model, feature_df, target_df, cv=2, n_jobs=num_procs, scoring='neg_mean_squared_error')\n",
        "    mean_mse[model] = -1.0*np.mean(neg_mse)\n",
        "    cv_std[model] = np.std(neg_mse)\n",
        "\n",
        "def print_summary(model, mean_mse, cv_std):\n",
        "    print('\\nModel:\\n', model)\n",
        "    print('Average MSE:\\n', mean_mse[model])\n",
        "    print('Standard deviation during CV:\\n', cv_std[model])\n",
        "\n",
        "def save_results(model, mean_mse, predictions, feature_importances):\n",
        "    '''saves model, model summary, feature importances, and predictions'''\n",
        "    with open('model.txt', 'w') as file:\n",
        "        file.write(str(model))\n",
        "    feature_importances.to_csv('feature_importances.csv') \n",
        "    np.savetxt('predictions.csv', predictions, delimiter=',')\n"
      ],
      "execution_count": null,
      "outputs": []
    },
    {
      "cell_type": "code",
      "metadata": {
        "id": "MfJQo6sAm33I",
        "colab_type": "code",
        "colab": {
          "base_uri": "https://localhost:8080/",
          "height": 51
        },
        "outputId": "4174b868-71c0-45ed-8236-b44c2fa6f79f"
      },
      "source": [
        "#define variables\n",
        "categorical_vars = ['companyId', 'jobType', 'degree', 'major', 'industry']\n",
        "numeric_vars = ['yearsExperience', 'milesFromMetropolis']\n",
        "target_var = 'salary'\n",
        "\n",
        "#load data\n",
        "print(\"Loading data\")\n",
        "feature_df = load_file('train_features.csv')\n",
        "target_df = load_file('train_targets.csv')\n",
        "test_df = load_file('test_features.csv')\n",
        "\n",
        "#consolidate training data\n",
        "raw_train_df = consolidate_data(feature_df, target_df, key='jobId')\n",
        "\n",
        "#clean, shuffle, and reindex training data -- shuffling improves cross-validation accuracy\n",
        "clean_train_df = shuffle(clean_data(raw_train_df)).reset_index()\n",
        "\n",
        "#encode categorical data and get final feature dfs\n",
        "print(\"Encoding data\")\n",
        "feature_df = one_hot_encode_feature_df(clean_train_df, cat_vars=categorical_vars, num_vars=numeric_vars)\n",
        "test_df = one_hot_encode_feature_df(test_df, cat_vars=categorical_vars, num_vars=numeric_vars)\n",
        "\n",
        "#get target df\n",
        "target_df = get_target_df(clean_train_df, target_var)\n"
      ],
      "execution_count": null,
      "outputs": [
        {
          "output_type": "stream",
          "text": [
            "Loading data\n",
            "Encoding data\n"
          ],
          "name": "stdout"
        }
      ]
    },
    {
      "cell_type": "code",
      "metadata": {
        "id": "Je3Eo8X2nAD8",
        "colab_type": "code",
        "colab": {}
      },
      "source": [
        "#initialize model list and dicts\n",
        "models = []\n",
        "mean_mse = {}\n",
        "cv_std = {}\n",
        "res = {}\n",
        "\n",
        "#define number of processes to run in parallel\n",
        "num_procs = 2\n",
        "\n",
        "#shared model paramaters\n",
        "verbose_lvl = 0\n"
      ],
      "execution_count": null,
      "outputs": []
    },
    {
      "cell_type": "code",
      "metadata": {
        "id": "K02o8p9wupJ5",
        "colab_type": "code",
        "colab": {
          "base_uri": "https://localhost:8080/",
          "height": 918
        },
        "outputId": "5a3c056c-d6cf-4796-b4d4-0afd81d48e51"
      },
      "source": [
        "#create models -- hyperparameter tuning already done by hand for each model\n",
        "lr = LinearRegression()\n",
        "lr_std_pca = make_pipeline(StandardScaler(), PCA(), LinearRegression())\n",
        "rf = RandomForestRegressor(n_estimators=150, n_jobs=num_procs, max_depth=25, min_samples_split=60, \\\n",
        "                           max_features=30, verbose=verbose_lvl)\n",
        "gbm = GradientBoostingRegressor(n_estimators=150, max_depth=5, loss='ls', verbose=verbose_lvl)\n",
        "                      \n",
        "models.extend([lr, lr_std_pca, rf, gbm])\n",
        "\n",
        "#parallel cross-validate models, using MSE as evaluation metric, and print summaries\n",
        "print(\"Beginning cross validation\")\n",
        "for model in models:\n",
        "    train_model(model, feature_df, target_df, num_procs, mean_mse, cv_std)\n",
        "    print_summary(model, mean_mse, cv_std)\n"
      ],
      "execution_count": null,
      "outputs": [
        {
          "output_type": "stream",
          "text": [
            "Beginning cross validation\n",
            "\n",
            "Model:\n",
            " LinearRegression(copy_X=True, fit_intercept=True, n_jobs=None, normalize=False)\n",
            "Average MSE:\n",
            " 384.45989695850466\n",
            "Standard deviation during CV:\n",
            " 0.3067535073977865\n",
            "\n",
            "Model:\n",
            " Pipeline(memory=None,\n",
            "         steps=[('standardscaler',\n",
            "                 StandardScaler(copy=True, with_mean=True, with_std=True)),\n",
            "                ('pca',\n",
            "                 PCA(copy=True, iterated_power='auto', n_components=None,\n",
            "                     random_state=None, svd_solver='auto', tol=0.0,\n",
            "                     whiten=False)),\n",
            "                ('linearregression',\n",
            "                 LinearRegression(copy_X=True, fit_intercept=True, n_jobs=None,\n",
            "                                  normalize=False))],\n",
            "         verbose=False)\n",
            "Average MSE:\n",
            " 384.4643196480851\n",
            "Standard deviation during CV:\n",
            " 0.3088939465242788\n",
            "\n",
            "Model:\n",
            " RandomForestRegressor(bootstrap=True, ccp_alpha=0.0, criterion='mse',\n",
            "                      max_depth=25, max_features=30, max_leaf_nodes=None,\n",
            "                      max_samples=None, min_impurity_decrease=0.0,\n",
            "                      min_impurity_split=None, min_samples_leaf=1,\n",
            "                      min_samples_split=60, min_weight_fraction_leaf=0.0,\n",
            "                      n_estimators=150, n_jobs=2, oob_score=False,\n",
            "                      random_state=None, verbose=0, warm_start=False)\n",
            "Average MSE:\n",
            " 367.4973769643101\n",
            "Standard deviation during CV:\n",
            " 0.529566958601805\n",
            "\n",
            "Model:\n",
            " GradientBoostingRegressor(alpha=0.9, ccp_alpha=0.0, criterion='friedman_mse',\n",
            "                          init=None, learning_rate=0.1, loss='ls', max_depth=5,\n",
            "                          max_features=None, max_leaf_nodes=None,\n",
            "                          min_impurity_decrease=0.0, min_impurity_split=None,\n",
            "                          min_samples_leaf=1, min_samples_split=2,\n",
            "                          min_weight_fraction_leaf=0.0, n_estimators=150,\n",
            "                          n_iter_no_change=None, presort='deprecated',\n",
            "                          random_state=None, subsample=1.0, tol=0.0001,\n",
            "                          validation_fraction=0.1, verbose=0, warm_start=False)\n",
            "Average MSE:\n",
            " 357.38732113314086\n",
            "Standard deviation during CV:\n",
            " 0.9963892896335835\n"
          ],
          "name": "stdout"
        }
      ]
    },
    {
      "cell_type": "code",
      "metadata": {
        "id": "utwqhBv9u689",
        "colab_type": "code",
        "colab": {
          "base_uri": "https://localhost:8080/",
          "height": 204
        },
        "outputId": "ac472851-d347-49df-d913-147de8f82fd7"
      },
      "source": [
        "#choose model with lowest mse\n",
        "model = min(mean_mse, key=mean_mse.get)\n",
        "print('\\nPredictions calculated using model with lowest MSE:')\n",
        "print(model)\n",
        "\n",
        "#train model on entire dataset\n",
        "model.fit(feature_df, target_df)\n",
        "\n",
        "#create predictions based on test data\n",
        "predictions = model.predict(test_df)"
      ],
      "execution_count": null,
      "outputs": [
        {
          "output_type": "stream",
          "text": [
            "\n",
            "Predictions calculated using model with lowest MSE:\n",
            "GradientBoostingRegressor(alpha=0.9, ccp_alpha=0.0, criterion='friedman_mse',\n",
            "                          init=None, learning_rate=0.1, loss='ls', max_depth=5,\n",
            "                          max_features=None, max_leaf_nodes=None,\n",
            "                          min_impurity_decrease=0.0, min_impurity_split=None,\n",
            "                          min_samples_leaf=1, min_samples_split=2,\n",
            "                          min_weight_fraction_leaf=0.0, n_estimators=150,\n",
            "                          n_iter_no_change=None, presort='deprecated',\n",
            "                          random_state=None, subsample=1.0, tol=0.0001,\n",
            "                          validation_fraction=0.1, verbose=0, warm_start=False)\n"
          ],
          "name": "stdout"
        }
      ]
    },
    {
      "cell_type": "code",
      "metadata": {
        "id": "kuhgZFTuKx8I",
        "colab_type": "code",
        "colab": {}
      },
      "source": [
        "#store feature importances\n",
        "if hasattr(model, 'feature_importances_'):\n",
        "    importances = model.feature_importances_\n",
        "else:\n",
        "    #linear models don't have feature_importances_\n",
        "    importances = [0]*len(feature_df.columns)\n",
        "    \n",
        "feature_importances = pd.DataFrame({'feature':feature_df.columns, 'importance':importances})\n",
        "feature_importances.sort_values(by='importance', ascending=False, inplace=True)\n",
        "#set index to 'feature'\n",
        "feature_importances.set_index('feature', inplace=True, drop=True)\n",
        "\n",
        "#save results\n",
        "save_results(model, mean_mse[model], predictions, feature_importances)\n"
      ],
      "execution_count": null,
      "outputs": []
    },
    {
      "cell_type": "code",
      "metadata": {
        "id": "M6gns3R4NfY7",
        "colab_type": "code",
        "colab": {
          "base_uri": "https://localhost:8080/",
          "height": 722
        },
        "outputId": "bca1b44a-acc0-43ae-f8f9-3a9f584a8209"
      },
      "source": [
        "feature_importances[0:25].plot.bar(figsize=(20,10))\n",
        "plt.show()\n"
      ],
      "execution_count": null,
      "outputs": [
        {
          "output_type": "display_data",
          "data": {
            "image/png": "[encoded data removed]",
            "text/plain": [
              "<Figure size 1440x720 with 1 Axes>"
            ]
          },
          "metadata": {
            "tags": [],
            "needs_background": "light"
          }
        }
      ]
    },
    {
      "cell_type": "code",
      "metadata": {
        "id": "ULKqJlG9Nl99",
        "colab_type": "code",
        "colab": {
          "base_uri": "https://localhost:8080/",
          "height": 170
        },
        "outputId": "df11c53b-1f6b-4e00-ef7d-598435d87357"
      },
      "source": [
        "!cat model.txt\n"
      ],
      "execution_count": null,
      "outputs": [
        {
          "output_type": "stream",
          "text": [
            "GradientBoostingRegressor(alpha=0.9, ccp_alpha=0.0, criterion='friedman_mse',\n",
            "                          init=None, learning_rate=0.1, loss='ls', max_depth=5,\n",
            "                          max_features=None, max_leaf_nodes=None,\n",
            "                          min_impurity_decrease=0.0, min_impurity_split=None,\n",
            "                          min_samples_leaf=1, min_samples_split=2,\n",
            "                          min_weight_fraction_leaf=0.0, n_estimators=150,\n",
            "                          n_iter_no_change=None, presort='deprecated',\n",
            "                          random_state=None, subsample=1.0, tol=0.0001,\n",
            "                          validation_fraction=0.1, verbose=0, warm_start=False)"
          ],
          "name": "stdout"
        }
      ]
    },
    {
      "cell_type": "code",
      "metadata": {
        "id": "FKmq94qNONCg",
        "colab_type": "code",
        "colab": {
          "base_uri": "https://localhost:8080/",
          "height": 187
        },
        "outputId": "ebdbf118-46b5-4540-8a0d-1b6982933b5e"
      },
      "source": [
        "!head feature_importances.csv\n"
      ],
      "execution_count": null,
      "outputs": [
        {
          "output_type": "stream",
          "text": [
            "feature,importance\n",
            "jobType_JANITOR,0.21828490267921524\n",
            "yearsExperience,0.18671901144513411\n",
            "milesFromMetropolis,0.1297718689877167\n",
            "major_NONE,0.08562541642548326\n",
            "jobType_JUNIOR,0.07476353234837332\n",
            "jobType_CEO,0.048493605808639734\n",
            "jobType_SENIOR,0.0402189871469417\n",
            "industry_FINANCE,0.028979129353599187\n",
            "industry_EDUCATION,0.028568660279804852\n"
          ],
          "name": "stdout"
        }
      ]
    },
    {
      "cell_type": "code",
      "metadata": {
        "id": "bdY0SDPFOUZG",
        "colab_type": "code",
        "colab": {
          "base_uri": "https://localhost:8080/",
          "height": 187
        },
        "outputId": "ed94cc99-5b7d-48b3-a331-5a864b9a5a58"
      },
      "source": [
        "!head predictions.csv\n"
      ],
      "execution_count": null,
      "outputs": [
        {
          "output_type": "stream",
          "text": [
            "1.112319470299428730e+02\n",
            "9.358076805149381983e+01\n",
            "1.789313055117162321e+02\n",
            "1.043686516871995167e+02\n",
            "1.170745237113817439e+02\n",
            "1.507164339871133336e+02\n",
            "9.642931186092454254e+01\n",
            "1.185500271711061373e+02\n",
            "1.069490341265071436e+02\n",
            "9.826842079587608225e+01\n"
          ],
          "name": "stdout"
        }
      ]
    }
  ]
}